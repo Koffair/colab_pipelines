{
 "nbformat": 4,
 "nbformat_minor": 0,
 "metadata": {
  "colab": {
   "provenance": []
  },
  "kernelspec": {
   "name": "python3",
   "display_name": "Python 3"
  },
  "language_info": {
   "name": "python"
  }
 },
 "cells": [
  {
   "cell_type": "markdown",
   "source": [
    "# Training a floret model\n",
    "<a target=\"_blank\" href=\"https://colab.research.google.com/github/Koffair/colab_pipelines/blob/main/notebooks/train_floret.ipynb\">\n",
    "  <img src=\"https://colab.research.google.com/assets/colab-badge.svg\" alt=\"Open In Colab\"/>\n",
    "</a>\n",
    "\n",
    "## Setting up the environment"
   ],
   "metadata": {
    "id": "ax9nJsvqptSQ"
   }
  },
  {
   "cell_type": "code",
   "execution_count": null,
   "metadata": {
    "id": "zgBEu7uJpqED"
   },
   "outputs": [],
   "source": [
    "!git clone https://github.com/explosion/floret"
   ]
  },
  {
   "cell_type": "code",
   "source": [
    "!cd floret; make"
   ],
   "metadata": {
    "id": "zXLJCOTPq7z_"
   },
   "execution_count": null,
   "outputs": []
  },
  {
   "cell_type": "code",
   "source": [
    "from google.colab import drive\n",
    "drive.mount('/content/gdrive')"
   ],
   "metadata": {
    "id": "xFnpXEA5q-MB"
   },
   "execution_count": null,
   "outputs": []
  },
  {
   "cell_type": "markdown",
   "source": [
    "## Training a model\n",
    "We ran several experiments to determine the parameters of floret. It seems\n",
    "to be a safe bet to use"
   ],
   "metadata": {
    "collapsed": false
   }
  }
 ]
}
