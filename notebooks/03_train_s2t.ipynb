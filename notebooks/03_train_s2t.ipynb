{
 "cells": [
  {
   "cell_type": "markdown",
   "source": [
    "# Training a speech-to-text model using Huggingsound\n",
    "\n",
    "<a target=\"_blank\" href=\"https://colab.research.google.com/github/Koffair/colab_pipelines/blob/main/notebooks/03_train_s2t.ipynb\">\n",
    "  <img src=\"https://colab.research.google.com/assets/colab-badge.svg\" alt=\"Open In Colab\"/>\n",
    "</a>\n",
    "\n",
    "**WARNING**\n",
    "- Open the notebook in Colab by clicking on the \"Open in Colab\" badge at the top of the notebook\n",
    "- Save a copy of the notebook to your Google Drive by clicking \"File\" > \"Save a Copy to Drive\"\n",
    "- This notebook assumes that you have downloaded the necessery data and preprocessed it by following the instructions in ```01_train_language_models.ipynb```\n"
   ],
   "metadata": {
    "collapsed": false
   }
  }
 ],
 "metadata": {
  "kernelspec": {
   "display_name": "Python 3",
   "language": "python",
   "name": "python3"
  },
  "language_info": {
   "codemirror_mode": {
    "name": "ipython",
    "version": 2
   },
   "file_extension": ".py",
   "mimetype": "text/x-python",
   "name": "python",
   "nbconvert_exporter": "python",
   "pygments_lexer": "ipython2",
   "version": "2.7.6"
  }
 },
 "nbformat": 4,
 "nbformat_minor": 0
}
