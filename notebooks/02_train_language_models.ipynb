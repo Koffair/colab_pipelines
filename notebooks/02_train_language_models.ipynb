{
  "nbformat": 4,
  "nbformat_minor": 0,
  "metadata": {
    "colab": {
      "provenance": []
    },
    "kernelspec": {
      "name": "python3",
      "display_name": "Python 3"
    },
    "language_info": {
      "name": "python"
    }
  },
  "cells": [
    {
      "cell_type": "markdown",
      "source": [
        "# Training language models\n",
        "\n",
        "\n",
        "<a target=\"_blank\" href=\"https://colab.research.google.com/github/Koffair/colab_pipelines/blob/main/notebooks/train_floret.ipynb\">\n",
        "  <img src=\"https://colab.research.google.com/assets/colab-badge.svg\" alt=\"Open In Colab\"/>\n",
        "</a>\n",
        "\n",
        "\n",
        "These language models will be used for output correction.\n",
        "\n",
        "**WARNING**\n",
        "- These languag modeling tools run for long time and eat up your compute time on Google (or other cloud computing platforms). If you can run these on your own machine, do so please.\n",
        "- Open the notebook in Colab by clicking on the \"Open in Colab\" badge at the top of the notebook\n",
        "- Save a copy of the notebook to your Google Drive by clicking \"File\" > \"Save a Copy to Drive\"\n",
        "- This notebook assumes that you have downloaded the necessery data and preprocessed it by following the instructions in ```01_train_language_models.ipynb```\n",
        "\n",
        "## Floret\n",
        "### Setting up the environment"
      ],
      "metadata": {
        "id": "ax9nJsvqptSQ"
      }
    },
    {
      "cell_type": "code",
      "execution_count": null,
      "metadata": {
        "id": "zgBEu7uJpqED",
        "colab": {
          "base_uri": "https://localhost:8080/"
        },
        "outputId": "bdaaee4f-1d58-483c-aa7a-e357598d5133"
      },
      "outputs": [
        {
          "output_type": "stream",
          "name": "stdout",
          "text": [
            "Cloning into 'floret'...\n",
            "remote: Enumerating objects: 3110, done.\u001b[K\n",
            "remote: Counting objects: 100% (1113/1113), done.\u001b[K\n",
            "remote: Compressing objects: 100% (161/161), done.\u001b[K\n",
            "remote: Total 3110 (delta 1006), reused 952 (delta 952), pack-reused 1997\u001b[K\n",
            "Receiving objects: 100% (3110/3110), 4.67 MiB | 9.64 MiB/s, done.\n",
            "Resolving deltas: 100% (2009/2009), done.\n"
          ]
        }
      ],
      "source": [
        "!git clone https://github.com/explosion/floret"
      ]
    },
    {
      "cell_type": "code",
      "source": [
        "!cd floret; make"
      ],
      "metadata": {
        "id": "zXLJCOTPq7z_",
        "colab": {
          "base_uri": "https://localhost:8080/"
        },
        "outputId": "a0422a40-6be5-4eeb-e95c-ed6c67053072"
      },
      "execution_count": null,
      "outputs": [
        {
          "output_type": "stream",
          "name": "stdout",
          "text": [
            "c++ -pthread -std=c++11 -O3 -funroll-loops -DNDEBUG -c src/args.cc\n",
            "c++ -pthread -std=c++11 -O3 -funroll-loops -DNDEBUG -c src/autotune.cc\n",
            "c++ -pthread -std=c++11 -O3 -funroll-loops -DNDEBUG -c src/matrix.cc\n",
            "c++ -pthread -std=c++11 -O3 -funroll-loops -DNDEBUG -c src/dictionary.cc\n",
            "c++ -pthread -std=c++11 -O3 -funroll-loops -DNDEBUG -c src/MurmurHash3.cpp\n",
            "c++ -pthread -std=c++11 -O3 -funroll-loops -DNDEBUG -c src/loss.cc\n",
            "c++ -pthread -std=c++11 -O3 -funroll-loops -DNDEBUG -c src/productquantizer.cc\n",
            "c++ -pthread -std=c++11 -O3 -funroll-loops -DNDEBUG -c src/densematrix.cc\n",
            "c++ -pthread -std=c++11 -O3 -funroll-loops -DNDEBUG -c src/quantmatrix.cc\n",
            "c++ -pthread -std=c++11 -O3 -funroll-loops -DNDEBUG -c src/vector.cc\n",
            "c++ -pthread -std=c++11 -O3 -funroll-loops -DNDEBUG -c src/model.cc\n",
            "c++ -pthread -std=c++11 -O3 -funroll-loops -DNDEBUG -c src/utils.cc\n",
            "c++ -pthread -std=c++11 -O3 -funroll-loops -DNDEBUG -c src/meter.cc\n",
            "c++ -pthread -std=c++11 -O3 -funroll-loops -DNDEBUG -c src/fasttext.cc\n",
            "c++ -pthread -std=c++11 -O3 -funroll-loops -DNDEBUG args.o autotune.o matrix.o dictionary.o MurmurHash3.o loss.o productquantizer.o densematrix.o quantmatrix.o vector.o model.o utils.o meter.o fasttext.o src/main.cc -o floret\n"
          ]
        }
      ]
    },
    {
      "cell_type": "code",
      "source": [
        "from google.colab import drive\n",
        "drive.mount('/content/gdrive')"
      ],
      "metadata": {
        "id": "xFnpXEA5q-MB",
        "colab": {
          "base_uri": "https://localhost:8080/"
        },
        "outputId": "275f688b-a025-4799-e2e7-63ff85023cf5"
      },
      "execution_count": null,
      "outputs": [
        {
          "output_type": "stream",
          "name": "stdout",
          "text": [
            "Mounted at /content/gdrive\n"
          ]
        }
      ]
    },
    {
      "cell_type": "markdown",
      "source": [
        "### Training a model\n",
        "We ran several experiments to determine the parameters of floret. It seems\n",
        "to be a safe bet to use the defaults suggested by the makers of floret."
      ],
      "metadata": {
        "collapsed": false,
        "id": "9fFjePxSa2tq"
      }
    },
    {
      "cell_type": "code",
      "source": [
        "!cd floret; ./floret cbow -dim 300 -minn 3 -maxn 6 -mode floret -hashCount 4 -bucket 50000 -input \"/content/gdrive/My Drive/Colab Notebooks/interim/merged_corpus.txt\" -output \"/content/gdrive/My Drive/Colab Notebooks/models/lms/hufloret_\""
      ],
      "metadata": {
        "colab": {
          "base_uri": "https://localhost:8080/"
        },
        "id": "_f9kG2qKc85P",
        "outputId": "65221a54-9f70-4266-94b2-d41bcea7583c"
      },
      "execution_count": null,
      "outputs": [
        {
          "output_type": "stream",
          "name": "stdout",
          "text": [
            "Read 209M words\n",
            "Number of words:  957090\n",
            "Number of labels: 0\n",
            "Progress:   0.0% words/sec/thread:     802 lr:  0.049986 avg.loss:  4.123149 ETA:  30h 9m 9s^C\n"
          ]
        }
      ]
    },
    {
      "cell_type": "markdown",
      "source": [
        "## KenLM\n",
        "### Setting up the environment"
      ],
      "metadata": {
        "id": "Miaqz1m3eLj1"
      }
    },
    {
      "cell_type": "code",
      "source": [
        "!git clone https://github.com/kpu/kenlm.git"
      ],
      "metadata": {
        "colab": {
          "base_uri": "https://localhost:8080/"
        },
        "id": "UGz8JcdqegGN",
        "outputId": "be5d8a80-ff08-47b3-814e-e3403ce717ab"
      },
      "execution_count": null,
      "outputs": [
        {
          "output_type": "stream",
          "name": "stdout",
          "text": [
            "Cloning into 'kenlm'...\n",
            "remote: Enumerating objects: 14142, done.\u001b[K\n",
            "remote: Counting objects:   0% (1/455)\u001b[K\rremote: Counting objects:   1% (5/455)\u001b[K\rremote: Counting objects:   2% (10/455)\u001b[K\rremote: Counting objects:   3% (14/455)\u001b[K\rremote: Counting objects:   4% (19/455)\u001b[K\rremote: Counting objects:   5% (23/455)\u001b[K\rremote: Counting objects:   6% (28/455)\u001b[K\rremote: Counting objects:   7% (32/455)\u001b[K\rremote: Counting objects:   8% (37/455)\u001b[K\rremote: Counting objects:   9% (41/455)\u001b[K\rremote: Counting objects:  10% (46/455)\u001b[K\rremote: Counting objects:  11% (51/455)\u001b[K\rremote: Counting objects:  12% (55/455)\u001b[K\rremote: Counting objects:  13% (60/455)\u001b[K\rremote: Counting objects:  14% (64/455)\u001b[K\rremote: Counting objects:  15% (69/455)\u001b[K\rremote: Counting objects:  16% (73/455)\u001b[K\rremote: Counting objects:  17% (78/455)\u001b[K\rremote: Counting objects:  18% (82/455)\u001b[K\rremote: Counting objects:  19% (87/455)\u001b[K\rremote: Counting objects:  20% (91/455)\u001b[K\rremote: Counting objects:  21% (96/455)\u001b[K\rremote: Counting objects:  22% (101/455)\u001b[K\rremote: Counting objects:  23% (105/455)\u001b[K\rremote: Counting objects:  24% (110/455)\u001b[K\rremote: Counting objects:  25% (114/455)\u001b[K\rremote: Counting objects:  26% (119/455)\u001b[K\rremote: Counting objects:  27% (123/455)\u001b[K\rremote: Counting objects:  28% (128/455)\u001b[K\rremote: Counting objects:  29% (132/455)\u001b[K\rremote: Counting objects:  30% (137/455)\u001b[K\rremote: Counting objects:  31% (142/455)\u001b[K\rremote: Counting objects:  32% (146/455)\u001b[K\rremote: Counting objects:  33% (151/455)\u001b[K\rremote: Counting objects:  34% (155/455)\u001b[K\rremote: Counting objects:  35% (160/455)\u001b[K\rremote: Counting objects:  36% (164/455)\u001b[K\rremote: Counting objects:  37% (169/455)\u001b[K\rremote: Counting objects:  38% (173/455)\u001b[K\rremote: Counting objects:  39% (178/455)\u001b[K\rremote: Counting objects:  40% (182/455)\u001b[K\rremote: Counting objects:  41% (187/455)\u001b[K\rremote: Counting objects:  42% (192/455)\u001b[K\rremote: Counting objects:  43% (196/455)\u001b[K\rremote: Counting objects:  44% (201/455)\u001b[K\rremote: Counting objects:  45% (205/455)\u001b[K\rremote: Counting objects:  46% (210/455)\u001b[K\rremote: Counting objects:  47% (214/455)\u001b[K\rremote: Counting objects:  48% (219/455)\u001b[K\rremote: Counting objects:  49% (223/455)\u001b[K\rremote: Counting objects:  50% (228/455)\u001b[K\rremote: Counting objects:  51% (233/455)\u001b[K\rremote: Counting objects:  52% (237/455)\u001b[K\rremote: Counting objects:  53% (242/455)\u001b[K\rremote: Counting objects:  54% (246/455)\u001b[K\rremote: Counting objects:  55% (251/455)\u001b[K\rremote: Counting objects:  56% (255/455)\u001b[K\rremote: Counting objects:  57% (260/455)\u001b[K\rremote: Counting objects:  58% (264/455)\u001b[K\rremote: Counting objects:  59% (269/455)\u001b[K\rremote: Counting objects:  60% (273/455)\u001b[K\rremote: Counting objects:  61% (278/455)\u001b[K\rremote: Counting objects:  62% (283/455)\u001b[K\rremote: Counting objects:  63% (287/455)\u001b[K\rremote: Counting objects:  64% (292/455)\u001b[K\rremote: Counting objects:  65% (296/455)\u001b[K\rremote: Counting objects:  66% (301/455)\u001b[K\rremote: Counting objects:  67% (305/455)\u001b[K\rremote: Counting objects:  68% (310/455)\u001b[K\rremote: Counting objects:  69% (314/455)\u001b[K\rremote: Counting objects:  70% (319/455)\u001b[K\rremote: Counting objects:  71% (324/455)\u001b[K\rremote: Counting objects:  72% (328/455)\u001b[K\rremote: Counting objects:  73% (333/455)\u001b[K\rremote: Counting objects:  74% (337/455)\u001b[K\rremote: Counting objects:  75% (342/455)\u001b[K\rremote: Counting objects:  76% (346/455)\u001b[K\rremote: Counting objects:  77% (351/455)\u001b[K\rremote: Counting objects:  78% (355/455)\u001b[K\rremote: Counting objects:  79% (360/455)\u001b[K\rremote: Counting objects:  80% (364/455)\u001b[K\rremote: Counting objects:  81% (369/455)\u001b[K\rremote: Counting objects:  82% (374/455)\u001b[K\rremote: Counting objects:  83% (378/455)\u001b[K\rremote: Counting objects:  84% (383/455)\u001b[K\rremote: Counting objects:  85% (387/455)\u001b[K\rremote: Counting objects:  86% (392/455)\u001b[K\rremote: Counting objects:  87% (396/455)\u001b[K\rremote: Counting objects:  88% (401/455)\u001b[K\rremote: Counting objects:  89% (405/455)\u001b[K\rremote: Counting objects:  90% (410/455)\u001b[K\rremote: Counting objects:  91% (415/455)\u001b[K\rremote: Counting objects:  92% (419/455)\u001b[K\rremote: Counting objects:  93% (424/455)\u001b[K\rremote: Counting objects:  94% (428/455)\u001b[K\rremote: Counting objects:  95% (433/455)\u001b[K\rremote: Counting objects:  96% (437/455)\u001b[K\rremote: Counting objects:  97% (442/455)\u001b[K\rremote: Counting objects:  98% (446/455)\u001b[K\rremote: Counting objects:  99% (451/455)\u001b[K\rremote: Counting objects: 100% (455/455)\u001b[K\rremote: Counting objects: 100% (455/455), done.\u001b[K\n",
            "remote: Compressing objects: 100% (318/318), done.\u001b[K\n",
            "remote: Total 14142 (delta 149), reused 393 (delta 123), pack-reused 13687\u001b[K\n",
            "Receiving objects: 100% (14142/14142), 5.91 MiB | 10.92 MiB/s, done.\n",
            "Resolving deltas: 100% (8029/8029), done.\n"
          ]
        }
      ]
    },
    {
      "cell_type": "code",
      "source": [
        "!cd kenlm; mkdir -p build; cd build; cmake ..; make -j 4"
      ],
      "metadata": {
        "colab": {
          "base_uri": "https://localhost:8080/"
        },
        "id": "C-Y9lc21etLD",
        "outputId": "0cae96f1-32c6-4365-f616-62dd9a4e4a9a"
      },
      "execution_count": null,
      "outputs": [
        {
          "output_type": "stream",
          "name": "stdout",
          "text": [
            "-- The C compiler identification is GNU 9.4.0\n",
            "-- The CXX compiler identification is GNU 9.4.0\n",
            "-- Detecting C compiler ABI info\n",
            "-- Detecting C compiler ABI info - done\n",
            "-- Check for working C compiler: /usr/bin/cc - skipped\n",
            "-- Detecting C compile features\n",
            "-- Detecting C compile features - done\n",
            "-- Detecting CXX compiler ABI info\n",
            "-- Detecting CXX compiler ABI info - done\n",
            "-- Check for working CXX compiler: /usr/bin/c++ - skipped\n",
            "-- Detecting CXX compile features\n",
            "-- Detecting CXX compile features - done\n",
            "-- Could NOT find Eigen3 (missing: Eigen3_DIR)\n",
            "-- Found Boost: /usr/lib/x86_64-linux-gnu/cmake/Boost-1.71.0/BoostConfig.cmake (found suitable version \"1.71.0\", minimum required is \"1.41.0\") found components: program_options system thread unit_test_framework \n",
            "-- Check if compiler accepts -pthread\n",
            "-- Check if compiler accepts -pthread - yes\n",
            "-- Found Threads: TRUE  \n",
            "-- Found ZLIB: /usr/lib/x86_64-linux-gnu/libz.so (found version \"1.2.11\") \n",
            "-- Found BZip2: /usr/lib/x86_64-linux-gnu/libbz2.so (found version \"1.0.8\") \n",
            "-- Looking for BZ2_bzCompressInit\n",
            "-- Looking for BZ2_bzCompressInit - found\n",
            "-- Looking for lzma_auto_decoder in /usr/lib/x86_64-linux-gnu/liblzma.so\n",
            "-- Looking for lzma_auto_decoder in /usr/lib/x86_64-linux-gnu/liblzma.so - found\n",
            "-- Looking for lzma_easy_encoder in /usr/lib/x86_64-linux-gnu/liblzma.so\n",
            "-- Looking for lzma_easy_encoder in /usr/lib/x86_64-linux-gnu/liblzma.so - found\n",
            "-- Looking for lzma_lzma_preset in /usr/lib/x86_64-linux-gnu/liblzma.so\n",
            "-- Looking for lzma_lzma_preset in /usr/lib/x86_64-linux-gnu/liblzma.so - found\n",
            "-- Found LibLZMA: /usr/lib/x86_64-linux-gnu/liblzma.so (found version \"5.2.4\") \n",
            "-- Looking for clock_gettime in rt\n",
            "-- Looking for clock_gettime in rt - found\n",
            "-- Configuring done\n",
            "-- Generating done\n",
            "-- Build files have been written to: /content/kenlm/build\n",
            "[  1%] \u001b[32mBuilding CXX object util/CMakeFiles/kenlm_util.dir/double-conversion/bignum-dtoa.cc.o\u001b[0m\n",
            "[  2%] \u001b[32mBuilding CXX object util/CMakeFiles/kenlm_util.dir/double-conversion/cached-powers.cc.o\u001b[0m\n",
            "[  3%] \u001b[32mBuilding CXX object util/CMakeFiles/kenlm_util.dir/double-conversion/bignum.cc.o\u001b[0m\n",
            "[  5%] \u001b[32mBuilding CXX object util/CMakeFiles/kenlm_util.dir/double-conversion/fast-dtoa.cc.o\u001b[0m\n",
            "[  6%] \u001b[32mBuilding CXX object util/CMakeFiles/kenlm_util.dir/double-conversion/fixed-dtoa.cc.o\u001b[0m\n",
            "[  7%] \u001b[32mBuilding CXX object util/CMakeFiles/kenlm_util.dir/double-conversion/strtod.cc.o\u001b[0m\n",
            "[  8%] \u001b[32mBuilding CXX object util/CMakeFiles/kenlm_util.dir/double-conversion/double-to-string.cc.o\u001b[0m\n",
            "[ 10%] \u001b[32mBuilding CXX object util/CMakeFiles/kenlm_util.dir/double-conversion/string-to-double.cc.o\u001b[0m\n",
            "[ 11%] \u001b[32mBuilding CXX object util/CMakeFiles/kenlm_util.dir/stream/chain.cc.o\u001b[0m\n",
            "[ 12%] \u001b[32mBuilding CXX object util/CMakeFiles/kenlm_util.dir/stream/count_records.cc.o\u001b[0m\n",
            "[ 13%] \u001b[32mBuilding CXX object util/CMakeFiles/kenlm_util.dir/stream/io.cc.o\u001b[0m\n",
            "[ 15%] \u001b[32mBuilding CXX object util/CMakeFiles/kenlm_util.dir/stream/line_input.cc.o\u001b[0m\n",
            "[ 16%] \u001b[32mBuilding CXX object util/CMakeFiles/kenlm_util.dir/stream/multi_progress.cc.o\u001b[0m\n",
            "[ 17%] \u001b[32mBuilding CXX object util/CMakeFiles/kenlm_util.dir/stream/rewindable_stream.cc.o\u001b[0m\n",
            "[ 18%] \u001b[32mBuilding CXX object util/CMakeFiles/kenlm_util.dir/bit_packing.cc.o\u001b[0m\n",
            "[ 20%] \u001b[32mBuilding CXX object util/CMakeFiles/kenlm_util.dir/ersatz_progress.cc.o\u001b[0m\n",
            "[ 21%] \u001b[32mBuilding CXX object util/CMakeFiles/kenlm_util.dir/exception.cc.o\u001b[0m\n",
            "[ 22%] \u001b[32mBuilding CXX object util/CMakeFiles/kenlm_util.dir/file.cc.o\u001b[0m\n",
            "[ 23%] \u001b[32mBuilding CXX object util/CMakeFiles/kenlm_util.dir/file_piece.cc.o\u001b[0m\n",
            "[ 25%] \u001b[32mBuilding CXX object util/CMakeFiles/kenlm_util.dir/float_to_string.cc.o\u001b[0m\n",
            "[ 26%] \u001b[32mBuilding CXX object util/CMakeFiles/kenlm_util.dir/integer_to_string.cc.o\u001b[0m\n",
            "[ 27%] \u001b[32mBuilding CXX object util/CMakeFiles/kenlm_util.dir/mmap.cc.o\u001b[0m\n",
            "[ 28%] \u001b[32mBuilding CXX object util/CMakeFiles/kenlm_util.dir/murmur_hash.cc.o\u001b[0m\n",
            "[ 30%] \u001b[32mBuilding CXX object util/CMakeFiles/kenlm_util.dir/parallel_read.cc.o\u001b[0m\n",
            "[ 31%] \u001b[32mBuilding CXX object util/CMakeFiles/kenlm_util.dir/pool.cc.o\u001b[0m\n",
            "[ 32%] \u001b[32mBuilding CXX object util/CMakeFiles/kenlm_util.dir/read_compressed.cc.o\u001b[0m\n",
            "[ 33%] \u001b[32mBuilding CXX object util/CMakeFiles/kenlm_util.dir/scoped.cc.o\u001b[0m\n",
            "[ 35%] \u001b[32mBuilding CXX object util/CMakeFiles/kenlm_util.dir/spaces.cc.o\u001b[0m\n",
            "[ 36%] \u001b[32mBuilding CXX object util/CMakeFiles/kenlm_util.dir/string_piece.cc.o\u001b[0m\n",
            "[ 37%] \u001b[32mBuilding CXX object util/CMakeFiles/kenlm_util.dir/usage.cc.o\u001b[0m\n",
            "[ 38%] \u001b[32m\u001b[1mLinking CXX static library ../lib/libkenlm_util.a\u001b[0m\n",
            "[ 38%] Built target kenlm_util\n",
            "[ 40%] \u001b[32mBuilding CXX object lm/filter/CMakeFiles/kenlm_filter.dir/phrase.cc.o\u001b[0m\n",
            "[ 41%] \u001b[32mBuilding CXX object lm/filter/CMakeFiles/kenlm_filter.dir/arpa_io.cc.o\u001b[0m\n",
            "[ 42%] \u001b[32mBuilding CXX object util/CMakeFiles/probing_hash_table_benchmark.dir/probing_hash_table_benchmark_main.cc.o\u001b[0m\n",
            "[ 43%] \u001b[32mBuilding CXX object lm/CMakeFiles/kenlm.dir/bhiksha.cc.o\u001b[0m\n",
            "[ 45%] \u001b[32mBuilding CXX object lm/CMakeFiles/kenlm.dir/binary_format.cc.o\u001b[0m\n",
            "[ 46%] \u001b[32mBuilding CXX object lm/filter/CMakeFiles/kenlm_filter.dir/vocab.cc.o\u001b[0m\n",
            "[ 47%] \u001b[32mBuilding CXX object lm/CMakeFiles/kenlm.dir/config.cc.o\u001b[0m\n",
            "[ 48%] \u001b[32mBuilding CXX object lm/CMakeFiles/kenlm.dir/lm_exception.cc.o\u001b[0m\n",
            "[ 50%] \u001b[32mBuilding CXX object lm/CMakeFiles/kenlm.dir/model.cc.o\u001b[0m\n",
            "[ 51%] \u001b[32mBuilding CXX object lm/CMakeFiles/kenlm.dir/quantize.cc.o\u001b[0m\n",
            "[ 52%] \u001b[32m\u001b[1mLinking CXX static library ../../lib/libkenlm_filter.a\u001b[0m\n",
            "[ 52%] Built target kenlm_filter\n",
            "[ 53%] \u001b[32mBuilding CXX object lm/CMakeFiles/kenlm.dir/read_arpa.cc.o\u001b[0m\n",
            "[ 55%] \u001b[32mBuilding CXX object lm/CMakeFiles/kenlm.dir/search_hashed.cc.o\u001b[0m\n",
            "[ 56%] \u001b[32mBuilding CXX object lm/CMakeFiles/kenlm.dir/search_trie.cc.o\u001b[0m\n",
            "[ 57%] \u001b[32mBuilding CXX object lm/CMakeFiles/kenlm.dir/sizes.cc.o\u001b[0m\n",
            "[ 58%] \u001b[32mBuilding CXX object lm/CMakeFiles/kenlm.dir/trie.cc.o\u001b[0m\n",
            "[ 60%] \u001b[32mBuilding CXX object lm/CMakeFiles/kenlm.dir/trie_sort.cc.o\u001b[0m\n",
            "[ 61%] \u001b[32mBuilding CXX object lm/CMakeFiles/kenlm.dir/value_build.cc.o\u001b[0m\n",
            "[ 62%] \u001b[32m\u001b[1mLinking CXX executable ../bin/probing_hash_table_benchmark\u001b[0m\n",
            "[ 62%] Built target probing_hash_table_benchmark\n",
            "[ 63%] \u001b[32mBuilding CXX object lm/CMakeFiles/kenlm.dir/virtual_interface.cc.o\u001b[0m\n",
            "[ 65%] \u001b[32mBuilding CXX object lm/CMakeFiles/kenlm.dir/vocab.cc.o\u001b[0m\n",
            "[ 66%] \u001b[32mBuilding CXX object lm/CMakeFiles/kenlm.dir/common/model_buffer.cc.o\u001b[0m\n",
            "[ 67%] \u001b[32mBuilding CXX object lm/CMakeFiles/kenlm.dir/common/print.cc.o\u001b[0m\n",
            "[ 68%] \u001b[32mBuilding CXX object lm/CMakeFiles/kenlm.dir/common/renumber.cc.o\u001b[0m\n",
            "[ 70%] \u001b[32mBuilding CXX object lm/CMakeFiles/kenlm.dir/common/size_option.cc.o\u001b[0m\n",
            "[ 71%] \u001b[32m\u001b[1mLinking CXX static library ../lib/libkenlm.a\u001b[0m\n",
            "[ 71%] Built target kenlm\n",
            "[ 72%] \u001b[32mBuilding CXX object lm/CMakeFiles/query.dir/query_main.cc.o\u001b[0m\n",
            "[ 73%] \u001b[32mBuilding CXX object lm/CMakeFiles/fragment.dir/fragment_main.cc.o\u001b[0m\n",
            "[ 75%] \u001b[32mBuilding CXX object lm/CMakeFiles/build_binary.dir/build_binary_main.cc.o\u001b[0m\n",
            "[ 76%] \u001b[32mBuilding CXX object lm/CMakeFiles/kenlm_benchmark.dir/kenlm_benchmark_main.cc.o\u001b[0m\n",
            "[ 77%] \u001b[32m\u001b[1mLinking CXX executable ../bin/fragment\u001b[0m\n",
            "[ 77%] Built target fragment\n",
            "[ 78%] \u001b[32m\u001b[1mLinking CXX executable ../bin/build_binary\u001b[0m\n",
            "[ 80%] \u001b[32mBuilding CXX object lm/builder/CMakeFiles/kenlm_builder.dir/adjust_counts.cc.o\u001b[0m\n",
            "[ 80%] Built target build_binary\n",
            "[ 81%] \u001b[32mBuilding CXX object lm/filter/CMakeFiles/filter.dir/filter_main.cc.o\u001b[0m\n",
            "[ 82%] \u001b[32m\u001b[1mLinking CXX executable ../bin/query\u001b[0m\n",
            "[ 82%] Built target query\n",
            "[ 83%] \u001b[32mBuilding CXX object lm/filter/CMakeFiles/phrase_table_vocab.dir/phrase_table_vocab_main.cc.o\u001b[0m\n",
            "[ 85%] \u001b[32m\u001b[1mLinking CXX executable ../../bin/phrase_table_vocab\u001b[0m\n",
            "[ 85%] Built target phrase_table_vocab\n",
            "[ 86%] \u001b[32mBuilding CXX object lm/builder/CMakeFiles/kenlm_builder.dir/corpus_count.cc.o\u001b[0m\n",
            "[ 87%] \u001b[32mBuilding CXX object lm/builder/CMakeFiles/kenlm_builder.dir/initial_probabilities.cc.o\u001b[0m\n",
            "[ 88%] \u001b[32mBuilding CXX object lm/builder/CMakeFiles/kenlm_builder.dir/interpolate.cc.o\u001b[0m\n",
            "[ 90%] \u001b[32mBuilding CXX object lm/builder/CMakeFiles/kenlm_builder.dir/output.cc.o\u001b[0m\n",
            "[ 91%] \u001b[32mBuilding CXX object lm/builder/CMakeFiles/kenlm_builder.dir/pipeline.cc.o\u001b[0m\n",
            "[ 92%] \u001b[32m\u001b[1mLinking CXX executable ../bin/kenlm_benchmark\u001b[0m\n",
            "[ 93%] \u001b[32m\u001b[1mLinking CXX executable ../../bin/filter\u001b[0m\n",
            "[ 93%] Built target kenlm_benchmark\n",
            "[ 93%] Built target filter\n",
            "[ 95%] \u001b[32m\u001b[1mLinking CXX static library ../../lib/libkenlm_builder.a\u001b[0m\n",
            "[ 95%] Built target kenlm_builder\n",
            "[ 97%] \u001b[32mBuilding CXX object lm/builder/CMakeFiles/count_ngrams.dir/count_ngrams_main.cc.o\u001b[0m\n",
            "[ 97%] \u001b[32mBuilding CXX object lm/builder/CMakeFiles/lmplz.dir/lmplz_main.cc.o\u001b[0m\n",
            "[ 98%] \u001b[32m\u001b[1mLinking CXX executable ../../bin/lmplz\u001b[0m\n",
            "[ 98%] Built target lmplz\n",
            "[100%] \u001b[32m\u001b[1mLinking CXX executable ../../bin/count_ngrams\u001b[0m\n",
            "[100%] Built target count_ngrams\n"
          ]
        }
      ]
    },
    {
      "cell_type": "code",
      "source": [
        "!cd kenlm/build/bin; ./lmplz -o 3 \"/content/gdrive/My Drive/Colab Notebooks/interim/merged_corpus.txt\" > \"/content/gdrive/My Drive/Colab Notebooks/models/lms/hu_kenlm.arpa\""
      ],
      "metadata": {
        "colab": {
          "base_uri": "https://localhost:8080/"
        },
        "id": "mLJzIJ3skyJ9",
        "outputId": "ea596966-88c2-4ba9-e704-7fadc0c52c1e"
      },
      "execution_count": null,
      "outputs": [
        {
          "output_type": "stream",
          "name": "stdout",
          "text": [
            "=== 1/5 Counting and sorting n-grams ===\n",
            "File /dev/pts/0 isn't normal.  Using slower read() instead of mmap().  No progress bar.\n",
            "^C\n"
          ]
        }
      ]
    }
  ]
}